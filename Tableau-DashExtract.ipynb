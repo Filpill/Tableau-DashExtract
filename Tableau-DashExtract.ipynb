{
 "cells": [
  {
   "cell_type": "code",
   "execution_count": 106,
   "metadata": {},
   "outputs": [],
   "source": [
    "#----Tableau REST API-----\n",
    "import tableauserverclient as TSC\n",
    "import pandas as pd\n",
    "\n",
    "# Credentials and Sitename\n",
    "token_name = ''\n",
    "token_value = ''\n",
    "sitename = ''\n",
    "server_url = ''\n",
    "\n",
    "tableau_auth = TSC.PersonalAccessTokenAuth(token_name,token_value,sitename)\n",
    "server = TSC.Server(server_url,use_server_version=True)"
   ]
  },
  {
   "cell_type": "markdown",
   "metadata": {},
   "source": [
    "### Datasources"
   ]
  },
  {
   "cell_type": "code",
   "execution_count": 67,
   "metadata": {},
   "outputs": [
    {
     "name": "stdout",
     "output_type": "stream",
     "text": [
      "\n",
      "There are 49 datasources on site: \n"
     ]
    },
    {
     "data": {
      "text/html": [
       "<div>\n",
       "<style scoped>\n",
       "    .dataframe tbody tr th:only-of-type {\n",
       "        vertical-align: middle;\n",
       "    }\n",
       "\n",
       "    .dataframe tbody tr th {\n",
       "        vertical-align: top;\n",
       "    }\n",
       "\n",
       "    .dataframe thead th {\n",
       "        text-align: right;\n",
       "    }\n",
       "</style>\n",
       "<table border=\"1\" class=\"dataframe\">\n",
       "  <thead>\n",
       "    <tr style=\"text-align: right;\">\n",
       "      <th></th>\n",
       "      <th>datasource_id</th>\n",
       "      <th>datasource_name</th>\n",
       "    </tr>\n",
       "  </thead>\n",
       "  <tbody>\n",
       "    <tr>\n",
       "      <th>0</th>\n",
       "      <td>63878ad5-1118-4ffa-95f2-eec253555930</td>\n",
       "      <td>B2BBookings_TableauLink_SBT_GDS (B2BSalesRepor...</td>\n",
       "    </tr>\n",
       "    <tr>\n",
       "      <th>1</th>\n",
       "      <td>f24fe520-50e5-42e0-8b0f-f7d26e49bc86</td>\n",
       "      <td>B2BBookings_TableauLink_SBT_GDS_Ancillaries (B...</td>\n",
       "    </tr>\n",
       "    <tr>\n",
       "      <th>2</th>\n",
       "      <td>d44a3e09-7a94-41f9-953b-fab01f215f4b</td>\n",
       "      <td>v_B2BBookings_Scrapers (B2BSalesReporting)</td>\n",
       "    </tr>\n",
       "  </tbody>\n",
       "</table>\n",
       "</div>"
      ],
      "text/plain": [
       "                          datasource_id  \\\n",
       "0  63878ad5-1118-4ffa-95f2-eec253555930   \n",
       "1  f24fe520-50e5-42e0-8b0f-f7d26e49bc86   \n",
       "2  d44a3e09-7a94-41f9-953b-fab01f215f4b   \n",
       "\n",
       "                                     datasource_name  \n",
       "0  B2BBookings_TableauLink_SBT_GDS (B2BSalesRepor...  \n",
       "1  B2BBookings_TableauLink_SBT_GDS_Ancillaries (B...  \n",
       "2         v_B2BBookings_Scrapers (B2BSalesReporting)  "
      ]
     },
     "execution_count": 67,
     "metadata": {},
     "output_type": "execute_result"
    }
   ],
   "source": [
    "with server.auth.sign_in(tableau_auth):\n",
    "    all_datasources, pagination_item = server.datasources.get()\n",
    "    print(\"\\nThere are {} datasources on site: \".format(pagination_item.total_available))\n",
    "    data_source_list = []\n",
    "    for datasource in all_datasources:\n",
    "        data_source_list.append((datasource.id,datasource.name))\n",
    "df_datasources = pd.DataFrame(data_source_list,columns=['datasource_id','datasource_name'])\n",
    "df_datasources.head(3)"
   ]
  },
  {
   "cell_type": "markdown",
   "metadata": {},
   "source": [
    "### Projects"
   ]
  },
  {
   "cell_type": "code",
   "execution_count": 68,
   "metadata": {},
   "outputs": [
    {
     "name": "stdout",
     "output_type": "stream",
     "text": [
      "\n",
      "There are 78 projects on site: \n"
     ]
    },
    {
     "data": {
      "text/html": [
       "<div>\n",
       "<style scoped>\n",
       "    .dataframe tbody tr th:only-of-type {\n",
       "        vertical-align: middle;\n",
       "    }\n",
       "\n",
       "    .dataframe tbody tr th {\n",
       "        vertical-align: top;\n",
       "    }\n",
       "\n",
       "    .dataframe thead th {\n",
       "        text-align: right;\n",
       "    }\n",
       "</style>\n",
       "<table border=\"1\" class=\"dataframe\">\n",
       "  <thead>\n",
       "    <tr style=\"text-align: right;\">\n",
       "      <th></th>\n",
       "      <th>project_id</th>\n",
       "      <th>project_name</th>\n",
       "    </tr>\n",
       "  </thead>\n",
       "  <tbody>\n",
       "    <tr>\n",
       "      <th>0</th>\n",
       "      <td>53a7cdbd-e646-456e-b752-f0820c8f9074</td>\n",
       "      <td>Commercial</td>\n",
       "    </tr>\n",
       "    <tr>\n",
       "      <th>1</th>\n",
       "      <td>0a9bc093-6694-47aa-bcb4-ff42cd44bef9</td>\n",
       "      <td>Commercial Restricted</td>\n",
       "    </tr>\n",
       "    <tr>\n",
       "      <th>2</th>\n",
       "      <td>a42473f4-2179-4cf6-98da-1f2ebec960d3</td>\n",
       "      <td>Platform Information</td>\n",
       "    </tr>\n",
       "  </tbody>\n",
       "</table>\n",
       "</div>"
      ],
      "text/plain": [
       "                             project_id           project_name\n",
       "0  53a7cdbd-e646-456e-b752-f0820c8f9074             Commercial\n",
       "1  0a9bc093-6694-47aa-bcb4-ff42cd44bef9  Commercial Restricted\n",
       "2  a42473f4-2179-4cf6-98da-1f2ebec960d3   Platform Information"
      ]
     },
     "execution_count": 68,
     "metadata": {},
     "output_type": "execute_result"
    }
   ],
   "source": [
    "with server.auth.sign_in(tableau_auth):\n",
    "    all_projects, pagination_item = server.projects.get()\n",
    "    print(\"\\nThere are {} projects on site: \".format(pagination_item.total_available))\n",
    "    project_list = []\n",
    "    for project in all_projects:\n",
    "        project_list.append((project.id,project.name))\n",
    "df_projects = pd.DataFrame(project_list,columns=['project_id','project_name'])\n",
    "df_projects.head(3)"
   ]
  },
  {
   "cell_type": "markdown",
   "metadata": {},
   "source": [
    "### Workbooks"
   ]
  },
  {
   "cell_type": "code",
   "execution_count": 69,
   "metadata": {},
   "outputs": [
    {
     "name": "stdout",
     "output_type": "stream",
     "text": [
      "\n",
      "There are 389 workbooks in site: \n"
     ]
    },
    {
     "data": {
      "text/html": [
       "<div>\n",
       "<style scoped>\n",
       "    .dataframe tbody tr th:only-of-type {\n",
       "        vertical-align: middle;\n",
       "    }\n",
       "\n",
       "    .dataframe tbody tr th {\n",
       "        vertical-align: top;\n",
       "    }\n",
       "\n",
       "    .dataframe thead th {\n",
       "        text-align: right;\n",
       "    }\n",
       "</style>\n",
       "<table border=\"1\" class=\"dataframe\">\n",
       "  <thead>\n",
       "    <tr style=\"text-align: right;\">\n",
       "      <th></th>\n",
       "      <th>workbook_id</th>\n",
       "      <th>project_id</th>\n",
       "      <th>workbook_name</th>\n",
       "    </tr>\n",
       "  </thead>\n",
       "  <tbody>\n",
       "    <tr>\n",
       "      <th>0</th>\n",
       "      <td>4da60fb7-ccaf-4c77-9c21-b152ed802b4b</td>\n",
       "      <td>2d7586fc-a815-4df7-9dd8-ba6ffaedd229</td>\n",
       "      <td>Scraper API Bookings</td>\n",
       "    </tr>\n",
       "    <tr>\n",
       "      <th>1</th>\n",
       "      <td>f609eda3-3231-4717-aef6-6f5ff65f09f3</td>\n",
       "      <td>2d7586fc-a815-4df7-9dd8-ba6ffaedd229</td>\n",
       "      <td>OAG - easyJet Vs EU Network Capacity</td>\n",
       "    </tr>\n",
       "    <tr>\n",
       "      <th>2</th>\n",
       "      <td>f6ec309c-a84a-48d5-bbc2-16d1a5f44dad</td>\n",
       "      <td>0c6070ad-d3e5-4a01-ae5d-33436f166df8</td>\n",
       "      <td>Loyalty Dashboard</td>\n",
       "    </tr>\n",
       "  </tbody>\n",
       "</table>\n",
       "</div>"
      ],
      "text/plain": [
       "                            workbook_id                            project_id  \\\n",
       "0  4da60fb7-ccaf-4c77-9c21-b152ed802b4b  2d7586fc-a815-4df7-9dd8-ba6ffaedd229   \n",
       "1  f609eda3-3231-4717-aef6-6f5ff65f09f3  2d7586fc-a815-4df7-9dd8-ba6ffaedd229   \n",
       "2  f6ec309c-a84a-48d5-bbc2-16d1a5f44dad  0c6070ad-d3e5-4a01-ae5d-33436f166df8   \n",
       "\n",
       "                          workbook_name  \n",
       "0                  Scraper API Bookings  \n",
       "1  OAG - easyJet Vs EU Network Capacity  \n",
       "2                     Loyalty Dashboard  "
      ]
     },
     "execution_count": 69,
     "metadata": {},
     "output_type": "execute_result"
    }
   ],
   "source": [
    "with server.auth.sign_in(tableau_auth):\n",
    "    workbook_list = []\n",
    "    for wb in TSC.Pager(server.workbooks):\n",
    "        workbook_list.append((wb.id,wb.project_id,wb.name))\n",
    "    print(f\"\\nThere are {len(workbook_list)} workbooks in site: \")\n",
    "df_workbooks = pd.DataFrame(workbook_list,columns=['workbook_id','project_id','workbook_name'])\n",
    "df_workbooks.head(3)"
   ]
  },
  {
   "cell_type": "markdown",
   "metadata": {},
   "source": [
    "### Views"
   ]
  },
  {
   "cell_type": "code",
   "execution_count": 71,
   "metadata": {},
   "outputs": [
    {
     "data": {
      "text/html": [
       "<div>\n",
       "<style scoped>\n",
       "    .dataframe tbody tr th:only-of-type {\n",
       "        vertical-align: middle;\n",
       "    }\n",
       "\n",
       "    .dataframe tbody tr th {\n",
       "        vertical-align: top;\n",
       "    }\n",
       "\n",
       "    .dataframe thead th {\n",
       "        text-align: right;\n",
       "    }\n",
       "</style>\n",
       "<table border=\"1\" class=\"dataframe\">\n",
       "  <thead>\n",
       "    <tr style=\"text-align: right;\">\n",
       "      <th></th>\n",
       "      <th>workbook_id</th>\n",
       "      <th>view_id</th>\n",
       "      <th>view_name</th>\n",
       "    </tr>\n",
       "  </thead>\n",
       "  <tbody>\n",
       "    <tr>\n",
       "      <th>0</th>\n",
       "      <td>4da60fb7-ccaf-4c77-9c21-b152ed802b4b</td>\n",
       "      <td>3da2fd6e-bc86-4a64-ba30-c0df2cb5f862</td>\n",
       "      <td>Weekly Summary Chart</td>\n",
       "    </tr>\n",
       "    <tr>\n",
       "      <th>1</th>\n",
       "      <td>4da60fb7-ccaf-4c77-9c21-b152ed802b4b</td>\n",
       "      <td>56749fb7-e7f9-4372-972e-4437cbf8702c</td>\n",
       "      <td>Daily Summary Chart Comparison</td>\n",
       "    </tr>\n",
       "    <tr>\n",
       "      <th>2</th>\n",
       "      <td>4da60fb7-ccaf-4c77-9c21-b152ed802b4b</td>\n",
       "      <td>752399e1-1ca6-41aa-a221-fb4ab26101b0</td>\n",
       "      <td>Daily Summary Chart</td>\n",
       "    </tr>\n",
       "  </tbody>\n",
       "</table>\n",
       "</div>"
      ],
      "text/plain": [
       "                            workbook_id                               view_id  \\\n",
       "0  4da60fb7-ccaf-4c77-9c21-b152ed802b4b  3da2fd6e-bc86-4a64-ba30-c0df2cb5f862   \n",
       "1  4da60fb7-ccaf-4c77-9c21-b152ed802b4b  56749fb7-e7f9-4372-972e-4437cbf8702c   \n",
       "2  4da60fb7-ccaf-4c77-9c21-b152ed802b4b  752399e1-1ca6-41aa-a221-fb4ab26101b0   \n",
       "\n",
       "                        view_name  \n",
       "0            Weekly Summary Chart  \n",
       "1  Daily Summary Chart Comparison  \n",
       "2             Daily Summary Chart  "
      ]
     },
     "execution_count": 71,
     "metadata": {},
     "output_type": "execute_result"
    }
   ],
   "source": [
    "with server.auth.sign_in(tableau_auth):\n",
    "    view_list = []\n",
    "    for view in TSC.Pager(server.views):\n",
    "        view_list.append((view.workbook_id,view.id,view.name))\n",
    "df_views =  pd.DataFrame(view_list,columns=['workbook_id','view_id','view_name'])\n",
    "df_views.head(3)"
   ]
  },
  {
   "cell_type": "markdown",
   "metadata": {},
   "source": [
    "### Merging"
   ]
  },
  {
   "cell_type": "code",
   "execution_count": 76,
   "metadata": {},
   "outputs": [
    {
     "data": {
      "text/html": [
       "<div>\n",
       "<style scoped>\n",
       "    .dataframe tbody tr th:only-of-type {\n",
       "        vertical-align: middle;\n",
       "    }\n",
       "\n",
       "    .dataframe tbody tr th {\n",
       "        vertical-align: top;\n",
       "    }\n",
       "\n",
       "    .dataframe thead th {\n",
       "        text-align: right;\n",
       "    }\n",
       "</style>\n",
       "<table border=\"1\" class=\"dataframe\">\n",
       "  <thead>\n",
       "    <tr style=\"text-align: right;\">\n",
       "      <th></th>\n",
       "      <th>project_id</th>\n",
       "      <th>workbook_id</th>\n",
       "      <th>view_id</th>\n",
       "      <th>project_name</th>\n",
       "      <th>workbook_name</th>\n",
       "      <th>view_name</th>\n",
       "    </tr>\n",
       "  </thead>\n",
       "  <tbody>\n",
       "    <tr>\n",
       "      <th>0</th>\n",
       "      <td>2d7586fc-a815-4df7-9dd8-ba6ffaedd229</td>\n",
       "      <td>4da60fb7-ccaf-4c77-9c21-b152ed802b4b</td>\n",
       "      <td>3da2fd6e-bc86-4a64-ba30-c0df2cb5f862</td>\n",
       "      <td>Group Markets Restricted</td>\n",
       "      <td>Scraper API Bookings</td>\n",
       "      <td>Weekly Summary Chart</td>\n",
       "    </tr>\n",
       "    <tr>\n",
       "      <th>1</th>\n",
       "      <td>2d7586fc-a815-4df7-9dd8-ba6ffaedd229</td>\n",
       "      <td>4da60fb7-ccaf-4c77-9c21-b152ed802b4b</td>\n",
       "      <td>56749fb7-e7f9-4372-972e-4437cbf8702c</td>\n",
       "      <td>Group Markets Restricted</td>\n",
       "      <td>Scraper API Bookings</td>\n",
       "      <td>Daily Summary Chart Comparison</td>\n",
       "    </tr>\n",
       "    <tr>\n",
       "      <th>2</th>\n",
       "      <td>2d7586fc-a815-4df7-9dd8-ba6ffaedd229</td>\n",
       "      <td>4da60fb7-ccaf-4c77-9c21-b152ed802b4b</td>\n",
       "      <td>752399e1-1ca6-41aa-a221-fb4ab26101b0</td>\n",
       "      <td>Group Markets Restricted</td>\n",
       "      <td>Scraper API Bookings</td>\n",
       "      <td>Daily Summary Chart</td>\n",
       "    </tr>\n",
       "  </tbody>\n",
       "</table>\n",
       "</div>"
      ],
      "text/plain": [
       "                             project_id                           workbook_id  \\\n",
       "0  2d7586fc-a815-4df7-9dd8-ba6ffaedd229  4da60fb7-ccaf-4c77-9c21-b152ed802b4b   \n",
       "1  2d7586fc-a815-4df7-9dd8-ba6ffaedd229  4da60fb7-ccaf-4c77-9c21-b152ed802b4b   \n",
       "2  2d7586fc-a815-4df7-9dd8-ba6ffaedd229  4da60fb7-ccaf-4c77-9c21-b152ed802b4b   \n",
       "\n",
       "                                view_id              project_name  \\\n",
       "0  3da2fd6e-bc86-4a64-ba30-c0df2cb5f862  Group Markets Restricted   \n",
       "1  56749fb7-e7f9-4372-972e-4437cbf8702c  Group Markets Restricted   \n",
       "2  752399e1-1ca6-41aa-a221-fb4ab26101b0  Group Markets Restricted   \n",
       "\n",
       "          workbook_name                       view_name  \n",
       "0  Scraper API Bookings            Weekly Summary Chart  \n",
       "1  Scraper API Bookings  Daily Summary Chart Comparison  \n",
       "2  Scraper API Bookings             Daily Summary Chart  "
      ]
     },
     "execution_count": 76,
     "metadata": {},
     "output_type": "execute_result"
    }
   ],
   "source": [
    "df_reportingHub = pd.merge(df_workbooks,df_projects,how='left',on='project_id')\n",
    "df_reportingHub = pd.merge(df_reportingHub,df_views,how='left',on='workbook_id')\n",
    "df_reportingHub = df_reportingHub[['project_id','workbook_id','view_id','project_name','workbook_name','view_name']]\n",
    "df_reportingHub.head(3)"
   ]
  },
  {
   "cell_type": "markdown",
   "metadata": {},
   "source": [
    "### Project/Folder Selection"
   ]
  },
  {
   "cell_type": "code",
   "execution_count": 136,
   "metadata": {},
   "outputs": [
    {
     "name": "stdout",
     "output_type": "stream",
     "text": [
      "The project_id of Safety, Security & Compliance is: ee77b47e-ad0b-4d0a-b2ed-1dd35bfebf04\n"
     ]
    },
    {
     "data": {
      "text/html": [
       "<div>\n",
       "<style scoped>\n",
       "    .dataframe tbody tr th:only-of-type {\n",
       "        vertical-align: middle;\n",
       "    }\n",
       "\n",
       "    .dataframe tbody tr th {\n",
       "        vertical-align: top;\n",
       "    }\n",
       "\n",
       "    .dataframe thead th {\n",
       "        text-align: right;\n",
       "    }\n",
       "</style>\n",
       "<table border=\"1\" class=\"dataframe\">\n",
       "  <thead>\n",
       "    <tr style=\"text-align: right;\">\n",
       "      <th></th>\n",
       "      <th>project_id</th>\n",
       "      <th>workbook_id</th>\n",
       "      <th>view_id</th>\n",
       "      <th>project_name</th>\n",
       "      <th>workbook_name</th>\n",
       "      <th>view_name</th>\n",
       "    </tr>\n",
       "  </thead>\n",
       "  <tbody>\n",
       "    <tr>\n",
       "      <th>642</th>\n",
       "      <td>ee77b47e-ad0b-4d0a-b2ed-1dd35bfebf04</td>\n",
       "      <td>478e0d72-ef82-44bd-9fb1-5b18a4e57885</td>\n",
       "      <td>3162fea9-a234-4971-a490-facd96273156</td>\n",
       "      <td>Safety, Security &amp; Compliance</td>\n",
       "      <td>Ground Ops SPI Tool</td>\n",
       "      <td>GROUND OPS SPI TOOL</td>\n",
       "    </tr>\n",
       "    <tr>\n",
       "      <th>643</th>\n",
       "      <td>ee77b47e-ad0b-4d0a-b2ed-1dd35bfebf04</td>\n",
       "      <td>478e0d72-ef82-44bd-9fb1-5b18a4e57885</td>\n",
       "      <td>222954fc-8e62-4202-8e4b-7e9ed4cb652f</td>\n",
       "      <td>Safety, Security &amp; Compliance</td>\n",
       "      <td>Ground Ops SPI Tool</td>\n",
       "      <td>SEASONAL ANALYSIS DASHBOARD</td>\n",
       "    </tr>\n",
       "    <tr>\n",
       "      <th>693</th>\n",
       "      <td>ee77b47e-ad0b-4d0a-b2ed-1dd35bfebf04</td>\n",
       "      <td>02ae0d81-9019-4dc5-8407-a7afaf59b1d9</td>\n",
       "      <td>3dcac6bc-98d0-46c7-9cf3-0b1514c97f8c</td>\n",
       "      <td>Safety, Security &amp; Compliance</td>\n",
       "      <td>GOST V2</td>\n",
       "      <td>Ground Operations SPI Tool - Risk Dashboard</td>\n",
       "    </tr>\n",
       "    <tr>\n",
       "      <th>694</th>\n",
       "      <td>ee77b47e-ad0b-4d0a-b2ed-1dd35bfebf04</td>\n",
       "      <td>02ae0d81-9019-4dc5-8407-a7afaf59b1d9</td>\n",
       "      <td>ba83065d-9469-46fb-a7c5-105bfbf5f8a6</td>\n",
       "      <td>Safety, Security &amp; Compliance</td>\n",
       "      <td>GOST V2</td>\n",
       "      <td>Dashboard 2</td>\n",
       "    </tr>\n",
       "    <tr>\n",
       "      <th>848</th>\n",
       "      <td>ee77b47e-ad0b-4d0a-b2ed-1dd35bfebf04</td>\n",
       "      <td>e280cfb6-b1bf-4a19-8ea4-02728d4ac0eb</td>\n",
       "      <td>258794a0-bbe9-4926-99a4-e5ca949e41cc</td>\n",
       "      <td>Safety, Security &amp; Compliance</td>\n",
       "      <td>Audits and Findings</td>\n",
       "      <td>External Audits and Findings</td>\n",
       "    </tr>\n",
       "  </tbody>\n",
       "</table>\n",
       "</div>"
      ],
      "text/plain": [
       "                               project_id  \\\n",
       "642  ee77b47e-ad0b-4d0a-b2ed-1dd35bfebf04   \n",
       "643  ee77b47e-ad0b-4d0a-b2ed-1dd35bfebf04   \n",
       "693  ee77b47e-ad0b-4d0a-b2ed-1dd35bfebf04   \n",
       "694  ee77b47e-ad0b-4d0a-b2ed-1dd35bfebf04   \n",
       "848  ee77b47e-ad0b-4d0a-b2ed-1dd35bfebf04   \n",
       "\n",
       "                              workbook_id  \\\n",
       "642  478e0d72-ef82-44bd-9fb1-5b18a4e57885   \n",
       "643  478e0d72-ef82-44bd-9fb1-5b18a4e57885   \n",
       "693  02ae0d81-9019-4dc5-8407-a7afaf59b1d9   \n",
       "694  02ae0d81-9019-4dc5-8407-a7afaf59b1d9   \n",
       "848  e280cfb6-b1bf-4a19-8ea4-02728d4ac0eb   \n",
       "\n",
       "                                  view_id                   project_name  \\\n",
       "642  3162fea9-a234-4971-a490-facd96273156  Safety, Security & Compliance   \n",
       "643  222954fc-8e62-4202-8e4b-7e9ed4cb652f  Safety, Security & Compliance   \n",
       "693  3dcac6bc-98d0-46c7-9cf3-0b1514c97f8c  Safety, Security & Compliance   \n",
       "694  ba83065d-9469-46fb-a7c5-105bfbf5f8a6  Safety, Security & Compliance   \n",
       "848  258794a0-bbe9-4926-99a4-e5ca949e41cc  Safety, Security & Compliance   \n",
       "\n",
       "           workbook_name                                    view_name  \n",
       "642  Ground Ops SPI Tool                          GROUND OPS SPI TOOL  \n",
       "643  Ground Ops SPI Tool                  SEASONAL ANALYSIS DASHBOARD  \n",
       "693              GOST V2  Ground Operations SPI Tool - Risk Dashboard  \n",
       "694              GOST V2                                  Dashboard 2  \n",
       "848  Audits and Findings                 External Audits and Findings  "
      ]
     },
     "execution_count": 136,
     "metadata": {},
     "output_type": "execute_result"
    }
   ],
   "source": [
    "folder = 'Safety, Security & Compliance'\n",
    "folder_select = df_reportingHub.loc[df_reportingHub['project_name'] == folder]\n",
    "folder_select_id = folder_select.iat[0,0]\n",
    "print(f'The project_id of {folder} is: {folder_select_id}')\n",
    "df_tableau_safety = df_reportingHub.loc[df_reportingHub['project_id'] == folder_select_id]\n",
    "df_tableau_safety.head(5)"
   ]
  },
  {
   "cell_type": "markdown",
   "metadata": {},
   "source": [
    "### Saving Selected View"
   ]
  },
  {
   "cell_type": "code",
   "execution_count": 135,
   "metadata": {},
   "outputs": [
    {
     "name": "stdout",
     "output_type": "stream",
     "text": [
      "The requested view is:  1efaef2a-51e9-4de5-96ac-695ad0c16806 Company Reporting\n",
      "Tableau View has been Saved.\n"
     ]
    }
   ],
   "source": [
    "# Selecting relevant index of dashboard view\n",
    "view_index = 1301\n",
    "view_id = df_tableau_safety.at[view_index,'view_id']\n",
    "view_name = df_tableau_safety.at[view_index,'view_name']\n",
    "\n",
    "# Image options\n",
    "view_image_options = TSC.ImageRequestOptions(imageresolution=\n",
    "                    TSC.ImageRequestOptions.Resolution.High, maxage=1)\n",
    "\n",
    "with server.auth.sign_in(tableau_auth):\n",
    "\n",
    "    # Retrieving requested view by id number\n",
    "    request_view = server.views.get_by_id(view_id)\n",
    "    print('The requested view is: ',request_view.id,request_view.name)\n",
    "\n",
    "    #Saving the requested view\n",
    "    server.views.populate_image(request_view)\n",
    "    with open('Company Reporting.png','wb') as v:\n",
    "        v.write(request_view.image)\n",
    "    print('Tableau View has been Saved.')"
   ]
  },
  {
   "cell_type": "markdown",
   "metadata": {},
   "source": [
    "### Cropping Desired Sections of Selected View"
   ]
  },
  {
   "cell_type": "code",
   "execution_count": 151,
   "metadata": {},
   "outputs": [
    {
     "name": "stdout",
     "output_type": "stream",
     "text": [
      "Dashboard Image Has been Cropped\n"
     ]
    }
   ],
   "source": [
    "from PIL import Image\n",
    "\n",
    "# Grabbing original Image\n",
    "im = Image.open(\"Company Reporting.png\")\n",
    "\n",
    "# Setting points for cropped image\n",
    "left = 0\n",
    "top = 0\n",
    "right = 750\n",
    "bottom = 530\n",
    "\n",
    "# Cropping to set dimension\n",
    "im_cropped = im.crop((left,top,right,bottom))\n",
    "im_cropped.save('Company Reporting_cropped.png')\n",
    "im_cropped.show()\n",
    "print('Dashboard Image Has been Cropped')"
   ]
  }
 ],
 "metadata": {
  "kernelspec": {
   "display_name": "Python 3.7.12 ('pydata37')",
   "language": "python",
   "name": "python3"
  },
  "language_info": {
   "codemirror_mode": {
    "name": "ipython",
    "version": 3
   },
   "file_extension": ".py",
   "mimetype": "text/x-python",
   "name": "python",
   "nbconvert_exporter": "python",
   "pygments_lexer": "ipython3",
   "version": "3.7.12"
  },
  "orig_nbformat": 4,
  "vscode": {
   "interpreter": {
    "hash": "fe49d36e1d8e22e4e36fad3741f60405ff1ebae1e4fa2d5e54487d17b4b42f6f"
   }
  }
 },
 "nbformat": 4,
 "nbformat_minor": 2
}
